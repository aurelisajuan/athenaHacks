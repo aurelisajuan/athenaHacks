{
 "cells": [
  {
   "cell_type": "code",
   "execution_count": 4,
   "metadata": {},
   "outputs": [],
   "source": [
    "import os\n",
    "import uuid\n",
    "import csv\n",
    "import asyncio\n",
    "from datetime import datetime\n",
    "from supabase import create_async_client, AsyncClient\n",
    "from dotenv import load_dotenv\n",
    "\n",
    "load_dotenv(override=True)\n",
    "\n",
    "SUPABASE_URL = os.getenv(\"SUPABASE_URL\", \"\")\n",
    "SUPABASE_API_KEY = os.getenv(\"SUPABASE_API_KEY\", \"\")\n",
    "\n",
    "client: AsyncClient = await create_async_client(SUPABASE_URL, SUPABASE_API_KEY)\n",
    "\n"
   ]
  },
  {
   "cell_type": "code",
   "execution_count": 5,
   "metadata": {},
   "outputs": [],
   "source": [
    "async def user_signup(first_name: str, last_name: str, phone_num: str) -> dict:\n",
    "    data = {\n",
    "        \"first_name\": first_name,\n",
    "        \"last_name\": last_name,\n",
    "        \"phone_num\": phone_num,\n",
    "        \"created_at\": datetime.utcnow().isoformat()\n",
    "    }\n",
    "    \n",
    "    response = await client.table(\"users\").insert(data).execute()\n",
    "    result = response.dict() \n",
    "\n",
    "    if result.get(\"error\") is None:\n",
    "        return {\"status\": \"success\", \"data\": result.get(\"data\")}\n",
    "    else:\n",
    "        return {\"status\": \"error\", \"message\": result.get(\"error\")}\n"
   ]
  },
  {
   "cell_type": "code",
   "execution_count": 6,
   "metadata": {},
   "outputs": [
    {
     "name": "stdout",
     "output_type": "stream",
     "text": [
      "{'status': 'success', 'data': [{'id': 7, 'created_at': '2025-03-02T00:30:43.468112+00:00', 'first_name': 'Lisa', 'last_name': 'Juan', 'phone_num': '1232344566'}]}\n"
     ]
    },
    {
     "name": "stderr",
     "output_type": "stream",
     "text": [
      "/var/folders/2s/w7mvcjhx01q7sjwc9k_nc7xw0000gn/T/ipykernel_11763/3687143360.py:10: PydanticDeprecatedSince20: The `dict` method is deprecated; use `model_dump` instead. Deprecated in Pydantic V2.0 to be removed in V3.0. See Pydantic V2 Migration Guide at https://errors.pydantic.dev/2.10/migration/\n",
      "  result = response.dict()\n"
     ]
    }
   ],
   "source": [
    "user = await user_signup(\n",
    "    first_name=\"Lisa\",\n",
    "    last_name=\"Juan\",\n",
    "    phone_num=\"1232344566\" \n",
    ")\n",
    "\n",
    "print(user)"
   ]
  },
  {
   "cell_type": "code",
   "execution_count": null,
   "metadata": {},
   "outputs": [],
   "source": []
  }
 ],
 "metadata": {
  "kernelspec": {
   "display_name": "athenahacks",
   "language": "python",
   "name": "python3"
  },
  "language_info": {
   "codemirror_mode": {
    "name": "ipython",
    "version": 3
   },
   "file_extension": ".py",
   "mimetype": "text/x-python",
   "name": "python",
   "nbconvert_exporter": "python",
   "pygments_lexer": "ipython3",
   "version": "3.9.21"
  }
 },
 "nbformat": 4,
 "nbformat_minor": 2
}
