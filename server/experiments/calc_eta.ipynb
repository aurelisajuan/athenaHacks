{
 "cells": [
  {
   "cell_type": "code",
   "execution_count": 1,
   "metadata": {},
   "outputs": [],
   "source": [
    "import os \n",
    "import math\n",
    "import googlemaps\n",
    "from dotenv import load_dotenv\n",
    "\n",
    "from pydantic import BaseModel\n",
    "\n",
    "load_dotenv()\n",
    "\n",
    "GOOGLE_MAPS_API_KEY = os.getenv(\"GOOGLE_MAPS_API_KEY\")\n",
    "client = googlemaps.Client(key=GOOGLE_MAPS_API_KEY)"
   ]
  },
  {
   "cell_type": "code",
   "execution_count": 2,
   "metadata": {},
   "outputs": [],
   "source": [
    "class ETARequest(BaseModel):\n",
    "    start: str\n",
    "    destination: str\n",
    "\n",
    "def calc_eta_sync(start: str, destination: str) -> int:\n",
    "    \"\"\"\n",
    "    Synchronous function that calculates ETA using the Google Maps Distance Matrix API.\n",
    "    Applies a 20% safety buffer and returns the ETA in minutes.\n",
    "    \"\"\"\n",
    "    # params = {\n",
    "    #     \"origins\": start,\n",
    "    #     \"destinations\": destination,\n",
    "    #     \"key\": GOOGLE_MAPS_API_KEY,\n",
    "    #     \"mode\": \"driving\"\n",
    "    # }\n",
    "\n",
    "    response = client.distance_matrix(origins=start, destinations=destination, mode=\"driving\")\n",
    "    print(response)\n",
    "    # The response is already a dictionary, no need to call json()\n",
    "    data = response\n",
    "    \n",
    "    if data.get(\"status\") != \"OK\":\n",
    "        raise Exception(\"Error with Distance Matrix API: \" + data.get(\"error_message\", \"Unknown error\"))\n",
    "    \n",
    "    element = data[\"rows\"][0][\"elements\"][0]\n",
    "    if element.get(\"status\") != \"OK\":\n",
    "        raise Exception(\"No route found: \" + element.get(\"status\", \"Unknown error\"))\n",
    "    \n",
    "    duration_in_seconds = element[\"duration\"][\"value\"]\n",
    "    buffered_duration = duration_in_seconds * 1.2  # Apply 20% safety buffer\n",
    "    eta_minutes = math.ceil(buffered_duration / 60)\n",
    "    return eta_minutes"
   ]
  },
  {
   "cell_type": "code",
   "execution_count": 3,
   "metadata": {},
   "outputs": [
    {
     "name": "stdout",
     "output_type": "stream",
     "text": [
      "{'destination_addresses': ['Los Angeles, CA 90007, USA'], 'origin_addresses': ['Grand Terrace, CA, USA'], 'rows': [{'elements': [{'distance': {'text': '99.2 km', 'value': 99247}, 'duration': {'text': '1 hour 5 mins', 'value': 3883}, 'status': 'OK'}]}], 'status': 'OK'}\n",
      "78\n"
     ]
    }
   ],
   "source": [
    "eta = calc_eta_sync(\"Grand Terrace, CA\", \"USC, LA, CA\")\n",
    "\n",
    "print(eta)"
   ]
  }
 ],
 "metadata": {
  "kernelspec": {
   "display_name": "athenahacks",
   "language": "python",
   "name": "python3"
  },
  "language_info": {
   "codemirror_mode": {
    "name": "ipython",
    "version": 3
   },
   "file_extension": ".py",
   "mimetype": "text/x-python",
   "name": "python",
   "nbconvert_exporter": "python",
   "pygments_lexer": "ipython3",
   "version": "3.9.21"
  }
 },
 "nbformat": 4,
 "nbformat_minor": 2
}
