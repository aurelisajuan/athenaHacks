{
 "cells": [
  {
   "cell_type": "code",
   "execution_count": 5,
   "metadata": {},
   "outputs": [],
   "source": [
    "import os\n",
    "import uuid\n",
    "import csv\n",
    "import asyncio\n",
    "from datetime import datetime\n",
    "from supabase import create_async_client, AsyncClient\n",
    "from dotenv import load_dotenv\n",
    "\n",
    "load_dotenv(override=True)\n",
    "\n",
    "SUPABASE_URL = os.getenv(\"SUPABASE_URL\", \"\")\n",
    "SUPABASE_API_KEY = os.getenv(\"SUPABASE_API_KEY\", \"\")\n",
    "\n",
    "async def get_client() -> AsyncClient:\n",
    "    \"\"\"\n",
    "    Helper function to create a new asynchronous Supabase client.\n",
    "    \"\"\"\n",
    "    return await create_async_client(SUPABASE_URL, SUPABASE_API_KEY)"
   ]
  },
  {
   "cell_type": "code",
   "execution_count": 6,
   "metadata": {},
   "outputs": [],
   "source": [
    "def notify_emergency_contact_helper(traveler_id: str, trip_id: str, contact_name: str, phone_number: str, device_token: str = \"dummyDeviceToken123\") -> dict:\n",
    "    \"\"\"\n",
    "    Notifies an emergency contact by sending a push notification and initiating a phone call.\n",
    "    \n",
    "    Args:\n",
    "        traveler_id (str): Unique identifier for the traveler.\n",
    "        trip_id (str): Identifier for the trip.\n",
    "        contact_name (str): Name of the emergency contact.\n",
    "        phone_number (str): Phone number of the emergency contact.\n",
    "        device_token (str): Device token to send the push notification. Defaults to a dummy token.\n",
    "    \n",
    "    Returns:\n",
    "        dict: A dictionary with the results of the push notification and call initiation.\n",
    "    \"\"\"\n",
    "    # Construct a notification message that includes traveler and trip details.\n",
    "    message = f\"Emergency Alert: Traveler {traveler_id} on trip {trip_id} requires assistance. Please contact {contact_name} immediately.\"\n",
    "    \n",
    "    # Send a push notification. Replace sendPushNotification with your actual integration.\n",
    "    push_result = sendPushNotification(device_token, message)\n",
    "    \n",
    "    # Initiate an automated phone call. Replace initiateCall with your actual integration.\n",
    "    call_result = initiateCall(phone_number)\n",
    "    \n",
    "    return {\"push_notification\": push_result, \"call\": call_result}"
   ]
  },
  {
   "cell_type": "code",
   "execution_count": 7,
   "metadata": {},
   "outputs": [],
   "source": [
    "def sendPushNotification(deviceToken: str, message: str) -> dict:\n",
    "    \"\"\"\n",
    "    Dummy function to simulate sending a push notification.\n",
    "    Replace with Firebase Cloud Messaging integration.\n",
    "    \"\"\"\n",
    "    return {\"sent\": True, \"deviceToken\": deviceToken, \"message\": message}"
   ]
  },
  {
   "cell_type": "code",
   "execution_count": 8,
   "metadata": {},
   "outputs": [],
   "source": [
    "def initiateCall(phoneNumber: str) -> dict:\n",
    "    \"\"\"\n",
    "    Dummy function to simulate initiating an automated call.\n",
    "    Replace with your actual call initiation service.\n",
    "    \"\"\"\n",
    "    return {\"called\": True, \"phoneNumber\": phoneNumber}"
   ]
  },
  {
   "cell_type": "code",
   "execution_count": 9,
   "metadata": {},
   "outputs": [
    {
     "name": "stdout",
     "output_type": "stream",
     "text": [
      "Testing notify_emergency_contact_helper:\n",
      "Push Notification Result: {'sent': True, 'deviceToken': 'dummyDeviceToken123', 'message': 'Emergency Alert: Traveler testTraveler123 on trip testTrip456 requires assistance. Please contact John Doe immediately.'}\n",
      "Call Initiation Result: {'called': True, 'phoneNumber': '+1234567890'}\n",
      "Test passed successfully!\n"
     ]
    }
   ],
   "source": [
    "def test_notify_emergency_contact():\n",
    "    # Sample input values for testing\n",
    "    traveler_id = \"testTraveler123\"\n",
    "    trip_id = \"testTrip456\"\n",
    "    contact_name = \"John Doe\"\n",
    "    phone_number = \"+1234567890\"\n",
    "    device_token = \"dummyDeviceToken123\"\n",
    "\n",
    "    # Call the helper function\n",
    "    result = notify_emergency_contact_helper(traveler_id, trip_id, contact_name, phone_number, device_token)\n",
    "\n",
    "    # Print results for visual confirmation\n",
    "    print(\"Testing notify_emergency_contact_helper:\")\n",
    "    print(\"Push Notification Result:\", result.get(\"push_notification\"))\n",
    "    print(\"Call Initiation Result:\", result.get(\"call\"))\n",
    "\n",
    "    # Optional: perform assertions (if using a testing framework like pytest)\n",
    "    assert result.get(\"push_notification\", {}).get(\"sent\") is True, \"Push notification failed\"\n",
    "    assert result.get(\"call\", {}).get(\"called\") is True, \"Call initiation failed\"\n",
    "    print(\"Test passed successfully!\")\n",
    "\n",
    "\n",
    "if __name__ == \"__main__\":\n",
    "    test_notify_emergency_contact()\n"
   ]
  }
 ],
 "metadata": {
  "kernelspec": {
   "display_name": "athenahacks",
   "language": "python",
   "name": "python3"
  },
  "language_info": {
   "codemirror_mode": {
    "name": "ipython",
    "version": 3
   },
   "file_extension": ".py",
   "mimetype": "text/x-python",
   "name": "python",
   "nbconvert_exporter": "python",
   "pygments_lexer": "ipython3",
   "version": "3.9.21"
  }
 },
 "nbformat": 4,
 "nbformat_minor": 2
}
