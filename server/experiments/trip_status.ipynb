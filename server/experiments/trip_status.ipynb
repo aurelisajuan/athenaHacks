{
 "cells": [
  {
   "cell_type": "code",
   "execution_count": 9,
   "metadata": {},
   "outputs": [],
   "source": [
    "import os\n",
    "import uuid\n",
    "import csv\n",
    "import asyncio\n",
    "from datetime import datetime\n",
    "from supabase import create_async_client, AsyncClient\n",
    "from dotenv import load_dotenv\n",
    "\n",
    "load_dotenv(override=True)\n",
    "\n",
    "SUPABASE_URL = os.getenv(\"SUPABASE_URL\", \"\")\n",
    "SUPABASE_API_KEY = os.getenv(\"SUPABASE_API_KEY\", \"\")\n",
    "\n",
    "async def get_client() -> AsyncClient:\n",
    "    \"\"\"\n",
    "    Helper function to create a new asynchronous Supabase client.\n",
    "    \"\"\"\n",
    "    return await create_async_client(SUPABASE_URL, SUPABASE_API_KEY)"
   ]
  },
  {
   "cell_type": "code",
   "execution_count": 10,
   "metadata": {},
   "outputs": [],
   "source": [
    "async def set_status(id: str, status: str) -> dict:\n",
    "    \"\"\"\n",
    "    Updates the status of a trip in the 'trips' table.\n",
    "    \n",
    "    Parameters:\n",
    "        trip_id (str): The unique identifier of the trip.\n",
    "        status (str): The new status, must be one of: \"arrived\", \"delayed\", \"in progress\".\n",
    "        \n",
    "    Returns:\n",
    "        dict: A response dict indicating success or error with corresponding data.\n",
    "    \"\"\"\n",
    "    allowed_statuses = {\"arrived\", \"delayed\", \"in progress\"}\n",
    "    if status not in allowed_statuses:\n",
    "        return {\n",
    "            \"status\": \"error\",\n",
    "            \"message\": f\"Invalid status provided. Allowed statuses: {allowed_statuses}\"\n",
    "        }\n",
    "\n",
    "    client = await get_client()\n",
    "    response = await client.table(\"trips\").update({\"status\": status}).eq(\"id\", id).execute()\n",
    "    result = response.dict()\n",
    "\n",
    "    if result.get(\"error\") is None:\n",
    "        return {\"status\": \"success\", \"data\": result.get(\"data\")}\n",
    "    else:\n",
    "        return {\"status\": \"error\", \"message\": result.get(\"error\")}"
   ]
  },
  {
   "cell_type": "code",
   "execution_count": 11,
   "metadata": {},
   "outputs": [
    {
     "name": "stdout",
     "output_type": "stream",
     "text": [
      "{'status': 'success', 'data': [{'id': 2, 'created_at': '2025-03-02T08:13:55.509655+00:00', 'user_id': 9, 'start_location': 'Los Angeles', 'destination': 'San Francisco', 'eta': None, 'status': 'arrived', 'interval': 30}]}\n"
     ]
    },
    {
     "name": "stderr",
     "output_type": "stream",
     "text": [
      "/var/folders/2s/w7mvcjhx01q7sjwc9k_nc7xw0000gn/T/ipykernel_35582/2152048223.py:21: PydanticDeprecatedSince20: The `dict` method is deprecated; use `model_dump` instead. Deprecated in Pydantic V2.0 to be removed in V3.0. See Pydantic V2 Migration Guide at https://errors.pydantic.dev/2.10/migration/\n",
      "  result = response.dict()\n"
     ]
    }
   ],
   "source": [
    "status = await set_status(\"2\", \"arrived\")\n",
    "print(status)"
   ]
  }
 ],
 "metadata": {
  "kernelspec": {
   "display_name": "athenahacks",
   "language": "python",
   "name": "python3"
  },
  "language_info": {
   "codemirror_mode": {
    "name": "ipython",
    "version": 3
   },
   "file_extension": ".py",
   "mimetype": "text/x-python",
   "name": "python",
   "nbconvert_exporter": "python",
   "pygments_lexer": "ipython3",
   "version": "3.9.21"
  }
 },
 "nbformat": 4,
 "nbformat_minor": 2
}
