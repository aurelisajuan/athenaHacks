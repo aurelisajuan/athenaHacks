{
 "cells": [
  {
   "cell_type": "code",
   "execution_count": 92,
   "metadata": {},
   "outputs": [],
   "source": [
    "import os\n",
    "import nest_asyncio\n",
    "nest_asyncio.apply()\n",
    "\n",
    "import asyncio\n",
    "from datetime import datetime\n",
    "from supabase import create_async_client, AsyncClient\n",
    "from dotenv import load_dotenv\n",
    "\n",
    "load_dotenv()\n",
    "\n",
    "SUPABASE_URL = os.getenv(\"SUPABASE_URL\")\n",
    "SUPABASE_API_KEY = os.getenv(\"SUPABASE_API_KEY\")"
   ]
  },
  {
   "cell_type": "code",
   "execution_count": 93,
   "metadata": {},
   "outputs": [],
   "source": [
    "async def get_client() -> AsyncClient:\n",
    "    \"\"\"\n",
    "    Helper function to create a new asynchronous Supabase client.\n",
    "    \"\"\"\n",
    "    return await create_async_client(SUPABASE_URL, SUPABASE_API_KEY)"
   ]
  },
  {
   "cell_type": "code",
   "execution_count": 94,
   "metadata": {},
   "outputs": [],
   "source": [
    "async def reset_checkins() -> dict:\n",
    "    \"\"\"\n",
    "    Resets the 'checkins' table by deleting all its records.\n",
    "    \"\"\"\n",
    "    client = await get_client()\n",
    "    # response =  await client.table(\"check_ins\").delete().execute()\n",
    "    response = await client.table(\"check_ins\").delete().neq(\"video_url\", \"\").execute()\n",
    "    result = response.dict()\n",
    "\n",
    "    if result.get(\"error\") is None:\n",
    "        return {\"status\": \"success\", \"data\": result.get(\"data\")}\n",
    "    else:\n",
    "        return {\"status\": \"error\", \"message\": result.get(\"error\")}"
   ]
  },
  {
   "cell_type": "code",
   "execution_count": 95,
   "metadata": {},
   "outputs": [],
   "source": [
    "async def reset_trips() -> dict:\n",
    "    \"\"\"\n",
    "    Resets the 'trips' table by deleting all its records.\n",
    "    \"\"\"\n",
    "    client = await get_client()\n",
    "    response = await client.table(\"trips\").delete().neq(\"status\", \"\").execute()\n",
    "    result = response.dict()\n",
    "\n",
    "    if result.get(\"error\") is None:\n",
    "        return {\"status\": \"success\", \"data\": result.get(\"data\")}\n",
    "    else:\n",
    "        return {\"status\": \"error\", \"message\": result.get(\"error\")}"
   ]
  },
  {
   "cell_type": "code",
   "execution_count": 96,
   "metadata": {},
   "outputs": [],
   "source": [
    "async def reset_emergency_contacts() -> dict:\n",
    "    \"\"\"\n",
    "    Resets the 'emergency_contacts' table by deleting all its records.\n",
    "    \"\"\"\n",
    "    client = await get_client()\n",
    "    response = await client.table(\"emergency_contact\").delete().neq(\"contact_name\", \"\").execute()\n",
    "    result = response.dict()\n",
    "\n",
    "    if result.get(\"error\") is None:\n",
    "        return {\"status\": \"success\", \"data\": result.get(\"data\")}\n",
    "    else:\n",
    "        return {\"status\": \"error\", \"message\": result.get(\"error\")}"
   ]
  },
  {
   "cell_type": "code",
   "execution_count": 97,
   "metadata": {},
   "outputs": [],
   "source": [
    "\n",
    "async def reset_users() -> dict:\n",
    "    \"\"\"\n",
    "    Resets the 'users' table by deleting all its records.\n",
    "    \"\"\"\n",
    "    client = await get_client()\n",
    "    response = await client.table(\"users\").delete().neq(\"first_name\", \"\").execute()\n",
    "    result = response.dict()\n",
    "\n",
    "    if result.get(\"error\") is None:\n",
    "        return {\"status\": \"success\", \"data\": result.get(\"data\")}\n",
    "    else:\n",
    "        return {\"status\": \"error\", \"message\": result.get(\"error\")}"
   ]
  },
  {
   "cell_type": "code",
   "execution_count": 98,
   "metadata": {},
   "outputs": [],
   "source": [
    "async def reset_db() -> dict:\n",
    "    \"\"\"\n",
    "    Resets the entire database to the default state.\n",
    "    Deletion is done in the following order to respect foreign key constraints:\n",
    "        1. CheckIns (child of Trips)\n",
    "        2. Trips (child of Users)\n",
    "        3. Emergency Contacts (child of Users)\n",
    "        4. Users (parent)\n",
    "    \"\"\"\n",
    "    results = {}\n",
    "\n",
    "    results[\"check_ins\"] = await reset_checkins()\n",
    "    results[\"trips\"] = await reset_trips()\n",
    "    results[\"emergency_contacts\"] = await reset_emergency_contacts()\n",
    "    results[\"users\"] = await reset_users()\n",
    "\n",
    "    return {\"status\": \"success\", \"results\": results}"
   ]
  },
  {
   "cell_type": "code",
   "execution_count": 99,
   "metadata": {},
   "outputs": [
    {
     "name": "stderr",
     "output_type": "stream",
     "text": [
      "/var/folders/2s/w7mvcjhx01q7sjwc9k_nc7xw0000gn/T/ipykernel_23849/2684723490.py:8: PydanticDeprecatedSince20: The `dict` method is deprecated; use `model_dump` instead. Deprecated in Pydantic V2.0 to be removed in V3.0. See Pydantic V2 Migration Guide at https://errors.pydantic.dev/2.10/migration/\n",
      "  result = response.dict()\n",
      "/var/folders/2s/w7mvcjhx01q7sjwc9k_nc7xw0000gn/T/ipykernel_23849/1683025760.py:7: PydanticDeprecatedSince20: The `dict` method is deprecated; use `model_dump` instead. Deprecated in Pydantic V2.0 to be removed in V3.0. See Pydantic V2 Migration Guide at https://errors.pydantic.dev/2.10/migration/\n",
      "  result = response.dict()\n"
     ]
    },
    {
     "name": "stdout",
     "output_type": "stream",
     "text": [
      "Reset DB Result: {'status': 'success', 'results': {'check_ins': {'status': 'success', 'data': []}, 'trips': {'status': 'success', 'data': []}, 'emergency_contacts': {'status': 'success', 'data': []}, 'users': {'status': 'success', 'data': [{'id': 2, 'created_at': '2025-03-02T00:26:01.117318+00:00', 'first_name': 'Lisa', 'last_name': 'Juan', 'phone_num': '1232344566', 'pass': None, 'voice_embed': None, 'face_embed': None}, {'id': 3, 'created_at': '2025-03-02T00:27:00.416285+00:00', 'first_name': 'Lisa', 'last_name': 'Juan', 'phone_num': '1232344566', 'pass': None, 'voice_embed': None, 'face_embed': None}, {'id': 4, 'created_at': '2025-03-02T00:27:05.689048+00:00', 'first_name': 'Lisa', 'last_name': 'Juan', 'phone_num': '1232344566', 'pass': None, 'voice_embed': None, 'face_embed': None}, {'id': 5, 'created_at': '2025-03-02T00:29:38.684225+00:00', 'first_name': 'Lisa', 'last_name': 'Juan', 'phone_num': '1232344566', 'pass': None, 'voice_embed': None, 'face_embed': None}, {'id': 6, 'created_at': '2025-03-02T00:30:01.28391+00:00', 'first_name': 'Lisa', 'last_name': 'Juan', 'phone_num': '1232344566', 'pass': None, 'voice_embed': None, 'face_embed': None}, {'id': 7, 'created_at': '2025-03-02T00:30:43.468112+00:00', 'first_name': 'Lisa', 'last_name': 'Juan', 'phone_num': '1232344566', 'pass': None, 'voice_embed': None, 'face_embed': None}, {'id': 8, 'created_at': '2025-03-02T06:08:29.284343+00:00', 'first_name': 'TestFirstName', 'last_name': 'TestLastName', 'phone_num': '+11234567890', 'pass': None, 'voice_embed': None, 'face_embed': None}]}}}\n"
     ]
    },
    {
     "name": "stderr",
     "output_type": "stream",
     "text": [
      "/var/folders/2s/w7mvcjhx01q7sjwc9k_nc7xw0000gn/T/ipykernel_23849/2994874229.py:1: RuntimeWarning: coroutine 'reset_checkins' was never awaited\n",
      "  reset = await reset_db()\n",
      "RuntimeWarning: Enable tracemalloc to get the object allocation traceback\n"
     ]
    }
   ],
   "source": [
    "reset = await reset_db()\n",
    "print(\"Reset DB Result:\", reset)"
   ]
  }
 ],
 "metadata": {
  "kernelspec": {
   "display_name": "athenahacks",
   "language": "python",
   "name": "python3"
  },
  "language_info": {
   "codemirror_mode": {
    "name": "ipython",
    "version": 3
   },
   "file_extension": ".py",
   "mimetype": "text/x-python",
   "name": "python",
   "nbconvert_exporter": "python",
   "pygments_lexer": "ipython3",
   "version": "3.9.21"
  }
 },
 "nbformat": 4,
 "nbformat_minor": 2
}
