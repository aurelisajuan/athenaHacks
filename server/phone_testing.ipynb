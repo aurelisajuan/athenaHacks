{
 "cells": [
  {
   "cell_type": "code",
   "execution_count": 18,
   "metadata": {},
   "outputs": [],
   "source": [
    "import math\n",
    "import asyncio\n",
    "\n",
    "import googlemaps\n",
    "import uvicorn\n",
    "from functools import partial\n",
    "import ast\n",
    "import os\n",
    "import json\n",
    "\n",
    "from dotenv import load_dotenv\n",
    "from fastapi import FastAPI, HTTPException, Form, Request, UploadFile, File, WebSocket, WebSocketDisconnect\n",
    "from concurrent.futures import TimeoutError as ConnectionTimeoutError\n",
    "from fastapi.responses import JSONResponse\n",
    "from pydantic import BaseModel, EmailStr\n",
    "from supabase import create_client, Client\n",
    "from fastapi.middleware.cors import CORSMiddleware\n",
    "import aiofiles\n",
    "# from recognition import recognition\n",
    "# from process_video import *\n",
    "\n",
    "from custom_types import (\n",
    "    ConfigResponse,\n",
    "    ResponseRequiredRequest,\n",
    ")\n",
    "from retell import Retell\n",
    "from llm import LlmClient\n",
    "\n",
    "\n",
    "app = FastAPI()\n",
    "\n",
    "load_dotenv()\n",
    "\n",
    "SUPABASE_URL = os.getenv(\"SUPABASE_URL\")\n",
    "SUPABASE_API_KEY = os.getenv(\"SUPABASE_API_KEY\")\n",
    "GOOGLE_MAPS_API_KEY = os.getenv(\"GOOGLE_MAPS_API_KEY\")\n",
    "\n",
    "supabase: Client = create_client(SUPABASE_URL, SUPABASE_API_KEY)\n",
    "\n",
    "retell = Retell(api_key=os.environ[\"RETELL_API_KEY\"])"
   ]
  },
  {
   "cell_type": "code",
   "execution_count": 30,
   "metadata": {},
   "outputs": [],
   "source": [
    "retell_number = \"+14435668609\"\n",
    "user_number = \"+19095725983\" # TODO: Change this to demo number\n",
    "trip_data = {\n",
    "    # \"user_id\": \"2\",\n",
    "    \"trip_id\": \"123\",\n",
    "    \"start_location\": \"309 E Green St, Pasadena, CA 91101\",\n",
    "    \"destination\": \"728 W 28th St, Los Angeles, CA 90007\",\n",
    "    \"eta\": \"35\",\n",
    "    \"status\": \"in-progress\",\n",
    "    \"interval\": \"35\"\n",
    "}\n",
    "traveler_data = {\n",
    "    \"first name\": \"Lisa\",\n",
    "    \"last name\": \"Juan\",\n",
    "    \"phone_num\": \"1234567890\",\n",
    "    \"pass\": \"1234\"\n",
    "}"
   ]
  },
  {
   "cell_type": "code",
   "execution_count": 27,
   "metadata": {},
   "outputs": [
    {
     "data": {
      "text/plain": [
       "PhoneCallResponse(agent_id='agent_fcc7d2caa50f8582bda9c3421a', call_id='call_f5decf5909f1b151e7073531200', call_status='registered', call_type='phone_call', direction='outbound', from_number='+14435668609', to_number='+19095725983', call_analysis=None, call_cost=CallCost(combined_cost=0.0, product_costs=[], total_duration_seconds=0.0, total_duration_unit_price=0.0, total_one_time_price=0.0), disconnection_reason=None, end_timestamp=None, latency=Latency(e2e=None, knowledge_base=None, llm=None, llm_websocket_network_rtt=None, s2s=None, tts=None), metadata={'mode': 0, 'trip_details': {'trip_id': '123', 'start_location': '309 E Green St, Pasadena, CA 91101', 'destination': '728 W 28th St, Los Angeles, CA 90007', 'eta': '35', 'status': 'in-progress', 'interval': '35'}, 'traveler_details': {'first name': 'Lisa', 'last name': 'Juan', 'phone_num': '1234567890', 'pass': '1234'}}, opt_out_sensitive_data_storage=False, public_log_url=None, recording_url=None, retell_llm_dynamic_variables=None, start_timestamp=None, telephony_identifier=None, transcript=None, transcript_object=None, transcript_with_tool_calls=None)"
      ]
     },
     "execution_count": 27,
     "metadata": {},
     "output_type": "execute_result"
    }
   ],
   "source": [
    "\n",
    "# midway \n",
    "mode = 0\n",
    "retell.call.create_phone_call(\n",
    "        from_number=retell_number,\n",
    "        to_number=user_number,\n",
    "        metadata={\n",
    "            \"mode\": mode,\n",
    "            \"trip_details\": trip_data,\n",
    "            \"traveler_details\": traveler_data,\n",
    "        },\n",
    "    )"
   ]
  },
  {
   "cell_type": "code",
   "execution_count": 32,
   "metadata": {},
   "outputs": [
    {
     "data": {
      "text/plain": [
       "PhoneCallResponse(agent_id='agent_fcc7d2caa50f8582bda9c3421a', call_id='call_da480e88e800236eba287ee1ef9', call_status='registered', call_type='phone_call', direction='outbound', from_number='+14435668609', to_number='+19095725983', call_analysis=None, call_cost=CallCost(combined_cost=0.0, product_costs=[], total_duration_seconds=0.0, total_duration_unit_price=0.0, total_one_time_price=0.0), disconnection_reason=None, end_timestamp=None, latency=Latency(e2e=None, knowledge_base=None, llm=None, llm_websocket_network_rtt=None, s2s=None, tts=None), metadata={'mode': 1, 'trip_details': {'trip_id': '123', 'start_location': '309 E Green St, Pasadena, CA 91101', 'destination': '728 W 28th St, Los Angeles, CA 90007', 'eta': '35', 'status': 'in-progress', 'interval': '35'}, 'traveler_details': {'first name': 'Lisa', 'last name': 'Juan', 'phone_num': '1234567890', 'pass': '1234'}}, opt_out_sensitive_data_storage=False, public_log_url=None, recording_url=None, retell_llm_dynamic_variables=None, start_timestamp=None, telephony_identifier=None, transcript=None, transcript_object=None, transcript_with_tool_calls=None)"
      ]
     },
     "execution_count": 32,
     "metadata": {},
     "output_type": "execute_result"
    }
   ],
   "source": [
    "# final \n",
    "mode = 1\n",
    "retell.call.create_phone_call(\n",
    "        from_number=retell_number,\n",
    "        to_number=user_number,\n",
    "        metadata={\n",
    "            \"mode\": mode,\n",
    "            \"trip_details\": trip_data,\n",
    "            \"traveler_details\": traveler_data,\n",
    "        },\n",
    "    )"
   ]
  }
 ],
 "metadata": {
  "kernelspec": {
   "display_name": "athenahacks",
   "language": "python",
   "name": "python3"
  },
  "language_info": {
   "codemirror_mode": {
    "name": "ipython",
    "version": 3
   },
   "file_extension": ".py",
   "mimetype": "text/x-python",
   "name": "python",
   "nbconvert_exporter": "python",
   "pygments_lexer": "ipython3",
   "version": "3.9.21"
  }
 },
 "nbformat": 4,
 "nbformat_minor": 2
}
